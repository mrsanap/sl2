{
 "cells": [
  {
   "cell_type": "code",
   "execution_count": null,
   "id": "0b16e636",
   "metadata": {},
   "outputs": [],
   "source": [
    "import numpy as np\n",
    "import pandas as pd\n",
    "import sklearn\n",
    "import matplotlib.pyplot as plt\n"
   ]
  },
  {
   "cell_type": "code",
   "execution_count": null,
   "id": "457e6b4a",
   "metadata": {},
   "outputs": [],
   "source": [
    "df = pd.DataFrame({\n",
    "  'Point': ['P' + str(x) for x in range(1, 9)],\n",
    "  'x_cor': [0.1,0.15,0.08,0.16,0.2,0.25,0.24,0.3],\n",
    "  'y_cor': [0.6,0.71,0.9,0.85,0.3,0.5,0.1,0.2]\n",
    "})\n",
    "df"
   ]
  },
  {
   "cell_type": "code",
   "execution_count": null,
   "id": "67656aa8",
   "metadata": {},
   "outputs": [],
   "source": [
    "#Visualized the data point\n",
    "plt.plot(df['x_cor'], df['y_cor'], 'o')\n",
    "plt.show()"
   ]
  },
  {
   "cell_type": "code",
   "execution_count": null,
   "id": "fe7ef739",
   "metadata": {},
   "outputs": [],
   "source": [
    "#initialize the centroid for C1 and C2\n",
    "m1 = np.array([0.1, 0.3])\n",
    "m2 = np.array([0.6, 0.2])\n",
    "centroid = m1, m2"
   ]
  },
  {
   "cell_type": "code",
   "execution_count": null,
   "id": "d0d75969",
   "metadata": {},
   "outputs": [],
   "source": [
    "#lets plot the graph with initialize centroids\n",
    "plt.scatter(df['x_cor'], df['y_cor'])\n",
    "plt.scatter(m1[0], m2[0], marker='*', c='r', s=100)\n",
    "plt.scatter(m1[1], m2[1], marker='*', c='r', s=100)\n",
    "plt.show()"
   ]
  },
  {
   "cell_type": "code",
   "execution_count": null,
   "id": "fa122e4c",
   "metadata": {},
   "outputs": [],
   "source": [
    "#training the model using kmean\n",
    "from sklearn.cluster import KMeans\n",
    "\n",
    "model = KMeans(n_clusters=2)\n",
    "prediction = model.fit_predict(df[['x_cor','y_cor']])\n",
    "     "
   ]
  },
  {
   "cell_type": "code",
   "execution_count": null,
   "id": "7c6b1a69",
   "metadata": {},
   "outputs": [],
   "source": [
    "df['Cluster_Number'] = prediction\n",
    "result = df.where(df.Point == 'P6').dropna()\n",
    "result\n",
    "     "
   ]
  },
  {
   "cell_type": "code",
   "execution_count": null,
   "id": "69393a93",
   "metadata": {},
   "outputs": [],
   "source": [
    "#What is the population of cluster around m2?\n",
    "count = 0\n",
    "for i in range(len(prediction)):\n",
    "  if prediction[i] == 1:\n",
    "    count += 1\n",
    "print('Number of Population of cluster around M2: ', count-1)\n",
    "     "
   ]
  },
  {
   "cell_type": "code",
   "execution_count": null,
   "id": "fe18ad99",
   "metadata": {},
   "outputs": [],
   "source": [
    "\n",
    "#let check the previous value of centroid\n",
    "print(f'Previous value of m1: {centroid[0]}, and m2: {centroid[1]}')\n",
    "#let check the updated  value of the centroid\n",
    "new_centroid = model.cluster_centers_\n",
    "print(f'Updated value of m1: {new_centroid[0]}, and m2: {new_centroid[1]}')"
   ]
  }
 ],
 "metadata": {
  "kernelspec": {
   "display_name": "Python 3 (ipykernel)",
   "language": "python",
   "name": "python3"
  },
  "language_info": {
   "codemirror_mode": {
    "name": "ipython",
    "version": 3
   },
   "file_extension": ".py",
   "mimetype": "text/x-python",
   "name": "python",
   "nbconvert_exporter": "python",
   "pygments_lexer": "ipython3",
   "version": "3.9.13"
  }
 },
 "nbformat": 4,
 "nbformat_minor": 5
}
