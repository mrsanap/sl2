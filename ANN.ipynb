{
 "cells": [
  {
   "cell_type": "code",
   "execution_count": null,
   "id": "b26b3417",
   "metadata": {},
   "outputs": [],
   "source": [
    "import numpy as np\n",
    "import matplotlib.pyplot as plt"
   ]
  },
  {
   "cell_type": "code",
   "execution_count": null,
   "id": "2a558d56",
   "metadata": {},
   "outputs": [],
   "source": [
    "# Define the ART class\n",
    "class ART:\n",
    "    def __init__(self, num_categories, vigilance):\n",
    "        self.num_categories = num_categories\n",
    "        self.vigilance = vigilance\n",
    "        self.categories = []\n",
    "\n",
    "    # Train the ART network using the input data\n",
    "    def train(self, X):\n",
    "        for x in X:\n",
    "            # Find the category that best matches the input\n",
    "            max_similarity = -np.inf\n",
    "            best_category = None\n",
    "            for category in self.categories:\n",
    "                similarity = np.dot(x, category)\n",
    "                if similarity > max_similarity:\n",
    "                    max_similarity = similarity\n",
    "                    best_category = category\n",
    "\n",
    "            # If no category is a good match, create a new category\n",
    "            if max_similarity < self.vigilance:\n",
    "                new_category = x.copy()\n",
    "                self.categories.append(new_category)\n",
    "            # Otherwise, update the best matching category\n",
    "            else:\n",
    "                best_category += self.vigilance * (x - best_category)\n",
    "\n",
    "    # Predict the category for a given input\n",
    "    def predict(self, x):\n",
    "        for category in self.categories:\n",
    "            similarity = np.dot(x, category)\n",
    "            if similarity >= self.vigilance:\n",
    "                return category\n",
    "        return None\n",
    "\n",
    "# Define the input data\n",
    "X = np.array([[0.2, 0.8], [0.4, 0.6], [0.6, 0.4], [0.8, 0.2]])\n",
    "\n",
    "# Create and train the ART network\n",
    "art = ART(num_categories=2, vigilance=0.9)\n",
    "art.train(X)\n",
    "\n",
    "# Predict the category for a new input\n",
    "new_input = np.array([0.5, 0.5])\n",
    "predicted_category = art.predict(new_input)\n",
    "\n",
    "# Plot the categories and the new input\n",
    "for category in art.categories:\n",
    "    plt.plot(category[0], category[1], 'bo')\n",
    "if predicted_category is not None:\n",
    "    plt.plot(predicted_category[0], predicted_category[1], 'ro')\n",
    "plt.plot(new_input[0], new_input[1], 'gx')\n",
    "plt.axis([0, 1, 0, 1])\n",
    "plt.show()"
   ]
  },
  {
   "cell_type": "code",
   "execution_count": null,
   "id": "608dffc2",
   "metadata": {},
   "outputs": [],
   "source": [
    "#ART1\n",
    "!pip install neural-python"
   ]
  },
  {
   "cell_type": "code",
   "execution_count": null,
   "id": "925fc76a",
   "metadata": {},
   "outputs": [],
   "source": [
    "import numpy as np\n",
    "from neuralpy import algorithms"
   ]
  },
  {
   "cell_type": "code",
   "execution_count": null,
   "id": "b629f23d",
   "metadata": {},
   "outputs": [],
   "source": [
    "input_data = np.array([\n",
    "    [1, 0, 1, 0],\n",
    "    [0, 1, 0, 1],\n",
    "    [1, 0, 1, 0]\n",
    "])\n",
    "     \n",
    "\n",
    "art_model = algorithms.ART1(step=2, rho=0.7, n_clusters=2, verbose=False)\n",
    "     \n",
    "\n",
    "art_model.predict(input_data)"
   ]
  }
 ],
 "metadata": {
  "kernelspec": {
   "display_name": "Python 3 (ipykernel)",
   "language": "python",
   "name": "python3"
  },
  "language_info": {
   "codemirror_mode": {
    "name": "ipython",
    "version": 3
   },
   "file_extension": ".py",
   "mimetype": "text/x-python",
   "name": "python",
   "nbconvert_exporter": "python",
   "pygments_lexer": "ipython3",
   "version": "3.9.13"
  }
 },
 "nbformat": 4,
 "nbformat_minor": 5
}
